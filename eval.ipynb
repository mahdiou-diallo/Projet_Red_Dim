{
 "cells": [
  {
   "cell_type": "code",
   "execution_count": 1,
   "metadata": {},
   "outputs": [],
   "source": [
    "%reload_ext autoreload\n",
    "%autoreload 2"
   ]
  },
  {
   "cell_type": "code",
   "execution_count": 2,
   "metadata": {},
   "outputs": [],
   "source": [
    "import os\n",
    "\n",
    "import numpy as np\n",
    "import pandas as pd\n",
    "\n",
    "from scipy.io import loadmat\n",
    "\n",
    "import matplotlib.pyplot as plt\n",
    "import seaborn as sns\n",
    "from mpl_toolkits.mplot3d import Axes3D\n",
    "\n",
    "from utils import (Trainer)\n",
    "\n",
    "# Dimensionality Reduction\n",
    "from sklearn.decomposition import PCA\n",
    "from sklearn.manifold import LocallyLinearEmbedding\n",
    "from umap import UMAP\n",
    "\n",
    "from tqdm import tqdm\n",
    "\n",
    "# model io\n",
    "import joblib\n",
    "\n",
    "# scoring\n",
    "from sklearn.cluster import KMeans\n",
    "from sklearn.metrics import normalized_mutual_info_score as NMI\n",
    "from scipy.spatial.distance import pdist, squareform\n",
    "from sklearn.neighbors import NearestNeighbors\n",
    "\n",
    "from sklearn.model_selection import train_test_split"
   ]
  },
  {
   "cell_type": "code",
   "execution_count": 3,
   "metadata": {},
   "outputs": [],
   "source": [
    "cmap = plt.cm.Spectral"
   ]
  },
  {
   "cell_type": "markdown",
   "metadata": {},
   "source": [
    "### Scoring methods"
   ]
  },
  {
   "cell_type": "code",
   "execution_count": 53,
   "metadata": {},
   "outputs": [],
   "source": [
    "def co_ranking_matrix(dist_in, dist_latent):\n",
    "    n = dist_in.shape[0]\n",
    "    k_less_j = np.arange(n)[:,np.newaxis] < np.arange(n)\n",
    "    ro = np.argsort(dist_in, axis=1, kind='mergesort')\n",
    "    r = np.argsort(dist_latent, axis=1, kind='mergesort')\n",
    "    Q_kl = np.zeros((n,n))\n",
    "    for k in range(n):\n",
    "        for l in range(n):\n",
    "            Q_kl[k,l] = np.sum((ro == k) * (r == l))\n",
    "    return Q_kl\n",
    "\n",
    "def q_nx(Q_kl, K):\n",
    "    n = Q_kl.shape[0]\n",
    "    return np.sum(Q_kl[:K,:K])/K/n\n",
    "\n",
    "def q_nd(Q_kl, Ks, kappa=None):\n",
    "    if kappa == None:\n",
    "        kappa = Ks\n",
    "    n = Q_kl.shape[0]\n",
    "    rect = Q_kl[:Ks,:]\n",
    "    close = np.abs(np.arange(Ks)[:,np.newaxis]-rect) <= kappa\n",
    "    reg = rect * close\n",
    "    return np.sum(reg)/Ks/n\n",
    "    \n",
    "\n",
    "    \n",
    "def rmse(dist_in, dist_latent):\n",
    "    return (np.mean((dist_in - dist_latent)**2, axis=1))**.5\n",
    "\n",
    "def kruskal_stress(dist_in, dist_latent):\n",
    "    return (np.sum((dist_in - dist_latent)**2, axis=1)/np.sum(dist_latent**2, axis=1))\n",
    "\n",
    "def residual_variance(dist_in, dist_latent):\n",
    "    rss = np.sum((dist_in - dist_latent)**2, axis=1)\n",
    "    tss = (np.sum(dist_in - dist_in.mean(axis=1)))**2\n",
    "    return 1 - rss/tss\n",
    "\n",
    "def spearman_rank(dist_in, dist_latent):\n",
    "    ro = np.argsort(dist_in, axis=1, kind='mergesort')+1\n",
    "    r = np.argsort(dist_latent, axis=1, kind='mergesort')+1\n",
    "    n = ro.shape[0]\n",
    "    return 1 - 6 * np.sum((ro-r)**2/(n*(n**2-1)), axis=1)\n",
    "\n",
    "def neighborhood_loss(X_in, X_latent, k=9):\n",
    "    nbrs_in = NearestNeighbors(n_neighbors=k, algorithm='ball_tree').fit(X_in)\n",
    "    nbrs_latent = NearestNeighbors(n_neighbors=k, algorithm='ball_tree').fit(X_latent)\n",
    "    _, idx_in = nbrs_in.kneighbors(X_in)\n",
    "    _, idx_latent = nbrs_latent.kneighbors(X_latent)\n",
    "    inter = np.array([np.intersect1d(x,y).shape[0] for (x,y) in zip([*idx_in], [*idx_latent])])\n",
    "    return 1 - inter/k\n",
    "\n",
    "def kmeans_nmi(X, true_labels, **kwargs):\n",
    "    n_clusters = np.unique(true_labels).shape[0]\n",
    "    labels = KMeans(n_clusters=n_clusters, **kwargs).fit_predict(X)\n",
    "    return NMI(true_labels, labels)"
   ]
  },
  {
   "cell_type": "code",
   "execution_count": 30,
   "metadata": {},
   "outputs": [],
   "source": [
    "def eval_model(save_dir, dataset_name, max_size=10000):\n",
    "\n",
    "    trainer = joblib.load(f\"{save_dir}/{dataset_name}-model.joblib\")\n",
    "    \n",
    "    X = trainer.dataset.X.detach().numpy()\n",
    "    y = trainer.dataset.y.detach().numpy().ravel()\n",
    "    \n",
    "    if X.shape[0] > max_size:\n",
    "        _, X, _, y = train_test_split(X, y, test_size=max_size, random_state=42, stratify=y)\n",
    "    \n",
    "    results = trainer.transform(X=X, lle=True)\n",
    "    x_ae = results['X_ae']\n",
    "    x_aelle = results['Y']\n",
    "    \n",
    "    x_pca = PCA(n_components=trainer.d_out).fit_transform(X)    \n",
    "    x_umap = UMAP(n_neighbors=trainer.n_neighbors, n_components=trainer.d_out).fit_transform(X)\n",
    "    x_lle = LocallyLinearEmbedding(n_neighbors=trainer.n_neighbors, n_components=trainer.d_out).fit_transform(X)\n",
    "    \n",
    "    return X, x_umap\n",
    "        \n",
    "    \n",
    "    dist_in = squareform(pdist(X))\n",
    "    nmi_in = kmeans_nmi(X, y, n_init=20)\n",
    "    dr_dict = {'pca': x_pca, 'lle': x_lle, 'umap': x_umap, 'ae': x_ae, 'ae_lle': x_aelle}\n",
    "    params_dict = dict(n_neighbors=trainer.n_neighbors,\n",
    "                    d_out=trainer.d_out,\n",
    "                    d_ae=trainer.net.d_latent)\n",
    "    res_dict = dict()\n",
    "    for algo, res in dr_dict.items():\n",
    "        dist_latent = squareform(pdist(res))\n",
    "        Q = co_ranking_matrix(dist_in, dist_latent)\n",
    "        res_dict[algo] = {\n",
    "            'coranking_score': q_nd(Q,trainer.n_neighbors),\n",
    "            'rmse': rmse(dist_in, dist_latent).mean(),\n",
    "            'kruskal': kruskal_stress(dist_in, dist_latent).mean(),\n",
    "            'res_var': residual_variance(dist_in, dist_latent).mean(),\n",
    "            'spearman_rho': spearman_rank(dist_in, dist_latent).mean(),\n",
    "            'neighborhood_loss': neighborhood_loss(X, res, k=trainer.n_neighbors).mean(),\n",
    "            'nmi': kmeans_nmi(res, y, n_init=20),\n",
    "            'nmi_in': nmi_in,\n",
    "        }\n",
    "        \n",
    "    joblib.dump({\n",
    "        'res_dict': res_dict,\n",
    "        'params_dict': params_dict,\n",
    "    }, f\"{save_dir}/{save_dir.rsplit('/')[-1]}-{dataset_name}-embeddings.joblib\")\n",
    "\n",
    "    return {\n",
    "        'res_dict': res_dict,\n",
    "        'params_dict': params_dict,\n",
    "    }"
   ]
  },
  {
   "cell_type": "code",
   "execution_count": 33,
   "metadata": {},
   "outputs": [
    {
     "data": {
      "text/plain": [
       "((400, 1024), (400, 3))"
      ]
     },
     "execution_count": 33,
     "metadata": {},
     "output_type": "execute_result"
    }
   ],
   "source": [
    "# X1, X2 = eval_model(**eval_params['lle_3_ae_3'], dataset_name='orl')\n",
    "X1.shape, X2.shape"
   ]
  },
  {
   "cell_type": "code",
   "execution_count": 37,
   "metadata": {},
   "outputs": [],
   "source": [
    "d1 = squareform(pdist(X1))\n",
    "d2 = squareform(pdist(X2))"
   ]
  },
  {
   "cell_type": "code",
   "execution_count": 43,
   "metadata": {},
   "outputs": [
    {
     "name": "stdout",
     "output_type": "stream",
     "text": [
      "CPU times: user 1min 26s, sys: 46.9 ms, total: 1min 26s\n",
      "Wall time: 1min 27s\n"
     ]
    }
   ],
   "source": [
    "%%time\n",
    "q = co_ranking_matrix(d1,d2)"
   ]
  },
  {
   "cell_type": "code",
   "execution_count": 49,
   "metadata": {},
   "outputs": [
    {
     "data": {
      "text/plain": [
       "[<matplotlib.lines.Line2D at 0x7f65dbcd8898>]"
      ]
     },
     "execution_count": 49,
     "metadata": {},
     "output_type": "execute_result"
    },
    {
     "data": {
      "image/png": "[encoded data removed]",
      "text/plain": [
       "<Figure size 432x288 with 1 Axes>"
      ]
     },
     "metadata": {
      "needs_background": "light"
     },
     "output_type": "display_data"
    }
   ],
   "source": [
    "plt.plot([q_nx(q, k) for k in range(1,20)])"
   ]
  },
  {
   "cell_type": "code",
   "execution_count": 54,
   "metadata": {},
   "outputs": [
    {
     "data": {
      "text/plain": [
       "[<matplotlib.lines.Line2D at 0x7f65f015e208>]"
      ]
     },
     "execution_count": 54,
     "metadata": {},
     "output_type": "execute_result"
    },
    {
     "data": {
      "image/png": "[encoded data removed]",
      "text/plain": [
       "<Figure size 432x288 with 1 Axes>"
      ]
     },
     "metadata": {
      "needs_background": "light"
     },
     "output_type": "display_data"
    }
   ],
   "source": [
    "plt.plot([q_nd(q, k) for k in range(1,20)])"
   ]
  },
  {
   "cell_type": "code",
   "execution_count": 44,
   "metadata": {},
   "outputs": [
    {
     "data": {
      "text/plain": [
       "<matplotlib.image.AxesImage at 0x7f65dc3d69e8>"
      ]
     },
     "execution_count": 44,
     "metadata": {},
     "output_type": "execute_result"
    },
    {
     "data": {
      "image/png": "[encoded data removed]",
      "text/plain": [
       "<Figure size 432x288 with 1 Axes>"
      ]
     },
     "metadata": {
      "needs_background": "light"
     },
     "output_type": "display_data"
    }
   ],
   "source": [
    "plt.spy(q)"
   ]
  },
  {
   "cell_type": "code",
   "execution_count": 42,
   "metadata": {},
   "outputs": [
    {
     "data": {
      "text/plain": [
       "<matplotlib.image.AxesImage at 0x7f65f4962ef0>"
      ]
     },
     "execution_count": 42,
     "metadata": {},
     "output_type": "execute_result"
    },
    {
     "data": {
      "image/png": "[encoded data removed]",
      "text/plain": [
       "<Figure size 432x288 with 1 Axes>"
      ]
     },
     "metadata": {
      "needs_background": "light"
     },
     "output_type": "display_data"
    }
   ],
   "source": [
    "plt.spy(q)"
   ]
  },
  {
   "cell_type": "code",
   "execution_count": 18,
   "metadata": {},
   "outputs": [],
   "source": [
    "eval_params = {\n",
    "    'lle_2_ae_2': {\n",
    "        'save_dir': '../models/lle_2_ae_2',\n",
    "    },\n",
    "    'lle_3_ae_3': {\n",
    "        'save_dir': '../models/lle_3_ae_3',\n",
    "    },\n",
    "    'lle_2_ae_not_2': {\n",
    "        'save_dir': '../models/lle_2_ae_not_2',\n",
    "    },\n",
    "    'lle_3_ae_not_3': {\n",
    "        'save_dir': '../models/lle_3_ae_not_3',\n",
    "    },\n",
    "    'lle_ae_different': {\n",
    "        'save_dir': '../models/lle_2_ae_2',\n",
    "    },\n",
    "    \n",
    "}"
   ]
  },
  {
   "cell_type": "code",
   "execution_count": 29,
   "metadata": {},
   "outputs": [
    {
     "data": {
      "text/html": [
       "<div>\n",
       "<style scoped>\n",
       "    .dataframe tbody tr th:only-of-type {\n",
       "        vertical-align: middle;\n",
       "    }\n",
       "\n",
       "    .dataframe tbody tr th {\n",
       "        vertical-align: top;\n",
       "    }\n",
       "\n",
       "    .dataframe thead th {\n",
       "        text-align: right;\n",
       "    }\n",
       "</style>\n",
       "<table border=\"1\" class=\"dataframe\">\n",
       "  <thead>\n",
       "    <tr style=\"text-align: right;\">\n",
       "      <th></th>\n",
       "      <th>coranking</th>\n",
       "      <th>rmse</th>\n",
       "      <th>kruskal</th>\n",
       "      <th>res_var</th>\n",
       "      <th>spearman</th>\n",
       "      <th>neighborhood_loss</th>\n",
       "      <th>nmi</th>\n",
       "      <th>nmi_in</th>\n",
       "    </tr>\n",
       "  </thead>\n",
       "  <tbody>\n",
       "    <tr>\n",
       "      <th>pca</th>\n",
       "      <td>NaN</td>\n",
       "      <td>697.061</td>\n",
       "      <td>7.450000e-01</td>\n",
       "      <td>-9.246837e+26</td>\n",
       "      <td>0.101</td>\n",
       "      <td>0.639</td>\n",
       "      <td>0.562</td>\n",
       "      <td>0.77</td>\n",
       "    </tr>\n",
       "    <tr>\n",
       "      <th>lle</th>\n",
       "      <td>NaN</td>\n",
       "      <td>1511.980</td>\n",
       "      <td>2.701208e+08</td>\n",
       "      <td>-4.260240e+27</td>\n",
       "      <td>0.094</td>\n",
       "      <td>0.628</td>\n",
       "      <td>0.658</td>\n",
       "      <td>0.77</td>\n",
       "    </tr>\n",
       "    <tr>\n",
       "      <th>umap</th>\n",
       "      <td>NaN</td>\n",
       "      <td>1508.639</td>\n",
       "      <td>1.863837e+05</td>\n",
       "      <td>-4.241374e+27</td>\n",
       "      <td>0.099</td>\n",
       "      <td>0.463</td>\n",
       "      <td>0.777</td>\n",
       "      <td>0.77</td>\n",
       "    </tr>\n",
       "    <tr>\n",
       "      <th>ae</th>\n",
       "      <td>NaN</td>\n",
       "      <td>1286.683</td>\n",
       "      <td>3.165300e+01</td>\n",
       "      <td>-3.076233e+27</td>\n",
       "      <td>0.087</td>\n",
       "      <td>0.661</td>\n",
       "      <td>0.539</td>\n",
       "      <td>0.77</td>\n",
       "    </tr>\n",
       "    <tr>\n",
       "      <th>ae_lle</th>\n",
       "      <td>NaN</td>\n",
       "      <td>1511.977</td>\n",
       "      <td>2.587479e+08</td>\n",
       "      <td>-4.260226e+27</td>\n",
       "      <td>0.091</td>\n",
       "      <td>0.661</td>\n",
       "      <td>0.548</td>\n",
       "      <td>0.77</td>\n",
       "    </tr>\n",
       "  </tbody>\n",
       "</table>\n",
       "</div>"
      ],
      "text/plain": [
       "        coranking      rmse       kruskal       res_var  spearman  \\\n",
       "pca           NaN   697.061  7.450000e-01 -9.246837e+26     0.101   \n",
       "lle           NaN  1511.980  2.701208e+08 -4.260240e+27     0.094   \n",
       "umap          NaN  1508.639  1.863837e+05 -4.241374e+27     0.099   \n",
       "ae            NaN  1286.683  3.165300e+01 -3.076233e+27     0.087   \n",
       "ae_lle        NaN  1511.977  2.587479e+08 -4.260226e+27     0.091   \n",
       "\n",
       "        neighborhood_loss    nmi  nmi_in  \n",
       "pca                 0.639  0.562    0.77  \n",
       "lle                 0.628  0.658    0.77  \n",
       "umap                0.463  0.777    0.77  \n",
       "ae                  0.661  0.539    0.77  \n",
       "ae_lle              0.661  0.548    0.77  "
      ]
     },
     "execution_count": 29,
     "metadata": {},
     "output_type": "execute_result"
    }
   ],
   "source": [
    "res = eval_model(**eval_params['lle_ae_different'], dataset_name='orl')\n",
    "pd.DataFrame(res['res_dict']).T.round(3)"
   ]
  }
 ],
 "metadata": {
  "kernelspec": {
   "display_name": "Python 3",
   "language": "python",
   "name": "python3"
  },
  "language_info": {
   "codemirror_mode": {
    "name": "ipython",
    "version": 3
   },
   "file_extension": ".py",
   "mimetype": "text/x-python",
   "name": "python",
   "nbconvert_exporter": "python",
   "pygments_lexer": "ipython3",
   "version": "3.7.3"
  }
 },
 "nbformat": 4,
 "nbformat_minor": 2
}
